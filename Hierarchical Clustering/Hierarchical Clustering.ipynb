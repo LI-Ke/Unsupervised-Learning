{
 "cells": [
  {
   "cell_type": "markdown",
   "metadata": {},
   "source": [
    "# Hierarchical Clustering"
   ]
  },
  {
   "cell_type": "code",
   "execution_count": 1,
   "metadata": {
    "collapsed": true
   },
   "outputs": [],
   "source": [
    "import math\n",
    "from math import sqrt"
   ]
  },
  {
   "cell_type": "markdown",
   "metadata": {},
   "source": [
    "## Distance between two objects"
   ]
  },
  {
   "cell_type": "code",
   "execution_count": 8,
   "metadata": {
    "collapsed": true
   },
   "outputs": [],
   "source": [
    "def length(a,b):   \n",
    "    sum=0\n",
    "    for i in range(0,a.__len__()):\n",
    "        sum=sum+(a[i]-b[i])*(a[i]-b[i])\n",
    "    sum=math.sqrt(sum)\n",
    "    return sum"
   ]
  },
  {
   "cell_type": "markdown",
   "metadata": {},
   "source": [
    "## Similarity between two objects"
   ]
  },
  {
   "cell_type": "code",
   "execution_count": 3,
   "metadata": {
    "collapsed": true
   },
   "outputs": [],
   "source": [
    "def similarity(subjects):    \n",
    "    simi=[[0 for col in range(0,subjects.__len__(),1)]for row in range(0,subjects.__len__(),1)]\n",
    "    for i in range(0,subjects.__len__()):\n",
    "        for j in range(i+1,subjects.__len__()):\n",
    "            simi[i][j]=simi[j][i]=length(subjects[i],subjects[j])\n",
    "    return simi"
   ]
  },
  {
   "cell_type": "code",
   "execution_count": 4,
   "metadata": {
    "collapsed": true
   },
   "outputs": [],
   "source": [
    "def distances(a,b,similar):  \n",
    "    for i in range(0,len(similar)):\n",
    "        similar[a][i]=similar[i][a]=min(similar[a][i],similar[b][i])\n",
    "    del similar[b]\n",
    "    for i in range(0,len(similar)):\n",
    "        del similar[i][b]\n",
    "    return similar"
   ]
  },
  {
   "cell_type": "markdown",
   "metadata": {},
   "source": [
    "## Hierarchical Clustering Algorithms"
   ]
  },
  {
   "cell_type": "code",
   "execution_count": 5,
   "metadata": {
    "collapsed": true
   },
   "outputs": [],
   "source": [
    "def clustering(subjects,similar):   \n",
    "    clusters=[[0 for col in range(0,len(subjects))]for row in range(0,len(subjects))]   \n",
    "    for i in range(0,len(subjects)):\n",
    "        clusters[i]=[i]\n",
    "\n",
    "    while len(clusters)>1:    \n",
    "        distance=100\n",
    "        point1=0\n",
    "        point2=0\n",
    "        for i in range(0,len(similar)):\n",
    "            for j in range(i+1,len(similar)):\n",
    "                if similar[i][j]==0:\n",
    "                    continue\n",
    "                elif similar[i][j]<distance:\n",
    "                    distance=similar[i][j]\n",
    "                    point1=i\n",
    "                    point2=j\n",
    "        similar=distances(point1,point2,similar)\n",
    "        clusters[point1].append(clusters[point2])   \n",
    "        del clusters[point2]   \n",
    "\n",
    "    return clusters"
   ]
  },
  {
   "cell_type": "markdown",
   "metadata": {},
   "source": [
    "# Test"
   ]
  },
  {
   "cell_type": "code",
   "execution_count": 7,
   "metadata": {
    "collapsed": false
   },
   "outputs": [
    {
     "name": "stdout",
     "output_type": "stream",
     "text": [
      "[[0, [8], [6], [1, [7]], [2, [3, [5]]], [4], [9]]]\n"
     ]
    }
   ],
   "source": [
    "subjects=[[0.0, 0.8, 0.0, 0.4, 0.7, 0.7, 0.1, 0.0],\n",
    "          [0.5, 0.8, 1.0, 0.0, 0.5, 0.9, 0.7, 0.2],\n",
    "          [0.1, 0.2, 0.5, 0.4, 0.6, 0.7, 0.7, 0.8],\n",
    "          [0.6, 0.5, 1.0, 0.9, 0.9, 0.4, 0.2, 0.5],\n",
    "          [0.5, 0.5, 1.0, 1.0, 0.0, 1.0, 0.9, 0.5],\n",
    "          [0.0, 0.4, 1.0, 0.9, 0.9, 0.3, 0.3, 0.8],\n",
    "          [0.4, 0.8, 0.2, 0.2, 0.0, 0.8, 0.0, 0.3],\n",
    "          [0.2, 0.3, 0.9, 0.3, 0.3, 0.9, 0.1, 0.1],\n",
    "          [0.4, 0.6, 0.4, 0.0, 0.7, 0.3, 0.0, 0.0],\n",
    "          [0.7, 1.0, 0.6, 0.9, 0.1, 0.0, 1.0, 0.2]]\n",
    "\n",
    "similar=similarity(subjects)\n",
    "\n",
    "clusters=clustering(subjects,similar)\n",
    "print (clusters)"
   ]
  },
  {
   "cell_type": "code",
   "execution_count": null,
   "metadata": {
    "collapsed": true
   },
   "outputs": [],
   "source": []
  }
 ],
 "metadata": {
  "anaconda-cloud": {},
  "kernelspec": {
   "display_name": "Python [default]",
   "language": "python",
   "name": "python3"
  },
  "language_info": {
   "codemirror_mode": {
    "name": "ipython",
    "version": 3
   },
   "file_extension": ".py",
   "mimetype": "text/x-python",
   "name": "python",
   "nbconvert_exporter": "python",
   "pygments_lexer": "ipython3",
   "version": "3.5.2"
  }
 },
 "nbformat": 4,
 "nbformat_minor": 1
}
